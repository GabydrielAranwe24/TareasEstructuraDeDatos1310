{
  "nbformat": 4,
  "nbformat_minor": 0,
  "metadata": {
    "colab": {
      "name": "Tarea2.ipynb",
      "provenance": [],
      "collapsed_sections": [],
      "include_colab_link": true
    },
    "kernelspec": {
      "name": "python3",
      "display_name": "Python 3"
    },
    "language_info": {
      "name": "python"
    }
  },
  "cells": [
    {
      "cell_type": "markdown",
      "metadata": {
        "id": "view-in-github",
        "colab_type": "text"
      },
      "source": [
        "<a href=\"https://colab.research.google.com/github/GabydrielAranwe24/TareasEstructuraDeDatos1310/blob/main/Tarea2.ipynb\" target=\"_parent\"><img src=\"https://colab.research.google.com/assets/colab-badge.svg\" alt=\"Open In Colab\"/></a>"
      ]
    },
    {
      "cell_type": "code",
      "metadata": {
        "colab": {
          "base_uri": "https://localhost:8080/"
        },
        "id": "M0FS4-CAGC7t",
        "outputId": "ed0c39ec-4f71-4a4d-95ae-0680a18fb5b6"
      },
      "source": [
        "def fib(n):\n",
        "    if n == 0:\n",
        "        return 0\n",
        "    if n == 1:\n",
        "        return 1\n",
        "    if n > 1:\n",
        "        return fib(n-1) + fib(n-2)\n",
        "\n",
        "if __name__ == '__main__':\n",
        "    fibonacci = fib(30)\n",
        "   \n",
        "    print(fibonacci)"
      ],
      "execution_count": null,
      "outputs": [
        {
          "output_type": "stream",
          "name": "stdout",
          "text": [
            "832040\n"
          ]
        }
      ]
    },
    {
      "cell_type": "code",
      "metadata": {
        "colab": {
          "base_uri": "https://localhost:8080/"
        },
        "id": "GgIkDddDK1nO",
        "outputId": "b8727e71-5268-4587-c1b5-cff58d275889"
      },
      "source": [
        "def sumar_lista(lista):\n",
        "    if len(lista) == 1:\n",
        "        return lista[0]\n",
        "    else:\n",
        "        return lista[0] + sumar_lista(lista[1:])\n",
        "\n",
        "numeros = [1, 2, 3, 4, 5, 6, 30]\n",
        "\n",
        "resultado = sumar_lista(numeros)\n",
        "print( '%i' %resultado)"
      ],
      "execution_count": null,
      "outputs": [
        {
          "output_type": "stream",
          "name": "stdout",
          "text": [
            "51\n"
          ]
        }
      ]
    },
    {
      "cell_type": "code",
      "metadata": {
        "id": "Q_cTg8YbHbR3"
      },
      "source": [
        "def printRev( n ):\n",
        "    if  n > 0:\n",
        "        print( n )\n",
        "        printRev( n-1 )\n",
        "    if n == 0:\n",
        "         print(0)\n",
        "         print(f'BOOOOOOM!')"
      ],
      "execution_count": null,
      "outputs": []
    },
    {
      "cell_type": "code",
      "metadata": {
        "colab": {
          "base_uri": "https://localhost:8080/"
        },
        "id": "xL839t7HHh4k",
        "outputId": "d1948e2c-537b-4756-8217-1637e8c0d742"
      },
      "source": [
        "printRev( 5 )"
      ],
      "execution_count": null,
      "outputs": [
        {
          "output_type": "stream",
          "name": "stdout",
          "text": [
            "5\n",
            "4\n",
            "3\n",
            "2\n",
            "1\n",
            "0\n",
            "BOOOOOOM!\n"
          ]
        }
      ]
    },
    {
      "cell_type": "code",
      "metadata": {
        "colab": {
          "base_uri": "https://localhost:8080/"
        },
        "id": "Nrkjeg_ksoaX",
        "outputId": "8a901963-59b0-4f70-e82a-8c7d21182d67"
      },
      "source": [
        "list =[10, 20, 30, 60,700]\n",
        "if (len(list) %2 == 1): \n",
        "    list.pop(len(list)//2)\n",
        "else:\n",
        "    list.pop(len(list)//2-1)\n",
        "print(list)"
      ],
      "execution_count": null,
      "outputs": [
        {
          "output_type": "stream",
          "name": "stdout",
          "text": [
            "[10, 20, 60, 700]\n"
          ]
        }
      ]
    }
  ]
}